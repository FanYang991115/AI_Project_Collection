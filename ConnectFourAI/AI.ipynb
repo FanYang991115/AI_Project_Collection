{
 "cells": [
  {
   "cell_type": "code",
   "execution_count": 19,
   "metadata": {},
   "outputs": [],
   "source": [
    "import numpy as np\n",
    "from torch.utils.data import Dataset, DataLoader\n",
    "import torch.nn as nn\n",
    "from torch import save\n",
    "import torch\n",
    "import tqdm"
   ]
  },
  {
   "cell_type": "markdown",
   "metadata": {},
   "source": [
    "## AI"
   ]
  },
  {
   "cell_type": "code",
   "execution_count": 21,
   "metadata": {},
   "outputs": [
    {
     "data": {
      "text/plain": [
       "(67557, 42)"
      ]
     },
     "execution_count": 21,
     "metadata": {},
     "output_type": "execute_result"
    }
   ],
   "source": [
    "dataset = []\n",
    "data = np.loadtxt(\"connectfour/connectfour.data\", dtype=str)\n",
    "for i in range(len(data)):\n",
    "    dataset.append(list(data[i].replace('b','0').replace('x','1').replace('loss','0,1,0').replace('o','-1').replace('win','1,0,0').replace(\"draw\",'0,1,0').split(',')))\n",
    "    \n",
    "# datasetX = np.array(dataset)[:,:-3][-16:,]\n",
    "# datasety = np.array(dataset)[:,-3:][-16:,]\n",
    "\n",
    "datasetX = np.array(dataset)[:,:-3]\n",
    "datasety = np.array(dataset)[:,-3:]\n",
    "datasetX.shape"
   ]
  },
  {
   "cell_type": "code",
   "execution_count": 22,
   "metadata": {},
   "outputs": [],
   "source": [
    "train_datasetX = datasetX[:64000]\n",
    "test_datasetX = datasetX[:-64000]\n",
    "train_datasety = datasety[:64000]\n",
    "test_datasety = datasety[:-64000]"
   ]
  },
  {
   "cell_type": "code",
   "execution_count": 23,
   "metadata": {},
   "outputs": [],
   "source": [
    "class Train_Dataset(Dataset):\n",
    "    def __init__(self):\n",
    "        self.dataset = dataset\n",
    "        self.X = train_datasetX.astype('float32')\n",
    "        self.y = train_datasety.astype('float32')\n",
    "        \n",
    "    def __getitem__(self, index):\n",
    "        X = torch.from_numpy(self.X).cuda()\n",
    "        y = torch.from_numpy(self.y).cuda()\n",
    "        \n",
    "        return X, y\n",
    "\n",
    "    def __len__(self):\n",
    "        return len(self.y)\n",
    "    \n",
    "class Test_Dataset(Dataset):\n",
    "    def __init__(self):\n",
    "        self.dataset = dataset\n",
    "        self.X = test_datasetX.astype('float32')\n",
    "        self.y = test_datasety.astype('float32')\n",
    "        \n",
    "    def __getitem__(self, index):\n",
    "        X = torch.from_numpy(self.X).cuda()\n",
    "        y = torch.from_numpy(self.y).cuda()\n",
    "        \n",
    "        return X, y\n",
    "\n",
    "    def __len__(self):\n",
    "        return len(self.y)"
   ]
  },
  {
   "cell_type": "code",
   "execution_count": 24,
   "metadata": {},
   "outputs": [],
   "source": [
    "traindata = Train_Dataset()\n",
    "testdata = Test_Dataset()\n",
    "traindataLoader = DataLoader(traindata,batch_size=64, shuffle =True)\n",
    "testdataLoader = DataLoader(testdata,batch_size=8, shuffle =True)"
   ]
  },
  {
   "cell_type": "code",
   "execution_count": 26,
   "metadata": {},
   "outputs": [],
   "source": [
    "class Net(nn.Module):\n",
    "    def __init__(self):\n",
    "        super().__init__()\n",
    "        self.linear1 = nn.Linear(42, 500)\n",
    "        self.relu1 = nn.LeakyReLU()\n",
    "        self.linear2 = nn.Linear(500, 1000)\n",
    "        self.relu2 = nn.LeakyReLU()\n",
    "        self.linear3 = nn.Linear(1000, 3)\n",
    "        self.drop1   = nn.Dropout(0.15)\n",
    "\n",
    "    def forward(self, x):\n",
    "        x = self.linear1(x)\n",
    "        x = self.relu1(x)\n",
    "        x = self.linear2(x)\n",
    "        x = self.relu2(x)\n",
    "        x = self.drop1(x)\n",
    "        x = self.linear3(x)\n",
    "        return x"
   ]
  },
  {
   "cell_type": "code",
   "execution_count": 27,
   "metadata": {},
   "outputs": [],
   "source": [
    "net = Net().cuda()"
   ]
  },
  {
   "cell_type": "code",
   "execution_count": 15,
   "metadata": {},
   "outputs": [],
   "source": [
    "torch.cuda.empty_cache()"
   ]
  },
  {
   "cell_type": "code",
   "execution_count": 30,
   "metadata": {},
   "outputs": [
    {
     "name": "stderr",
     "output_type": "stream",
     "text": [
      "  0%|          | 0/10 [00:00<?, ?it/s]"
     ]
    },
    {
     "name": "stdout",
     "output_type": "stream",
     "text": [
      "0 : 0.0143\n"
     ]
    },
    {
     "name": "stderr",
     "output_type": "stream",
     "text": [
      " 10%|█         | 1/10 [06:26<57:58, 386.47s/it]"
     ]
    },
    {
     "name": "stdout",
     "output_type": "stream",
     "text": [
      "0.0018837744242330766\n",
      "1 : 0.0087\n"
     ]
    },
    {
     "name": "stderr",
     "output_type": "stream",
     "text": [
      " 20%|██        | 2/10 [12:52<51:31, 386.39s/it]"
     ]
    },
    {
     "name": "stdout",
     "output_type": "stream",
     "text": [
      "0.0012195276568801108\n",
      "2 : 0.0067\n"
     ]
    },
    {
     "name": "stderr",
     "output_type": "stream",
     "text": [
      " 30%|███       | 3/10 [19:18<45:04, 386.29s/it]"
     ]
    },
    {
     "name": "stdout",
     "output_type": "stream",
     "text": [
      "0.000874470982471225\n",
      "3 : 0.0055\n"
     ]
    },
    {
     "name": "stderr",
     "output_type": "stream",
     "text": [
      " 40%|████      | 4/10 [25:45<38:38, 386.40s/it]"
     ]
    },
    {
     "name": "stdout",
     "output_type": "stream",
     "text": [
      "0.0006730470332189544\n",
      "4 : 0.0048\n"
     ]
    },
    {
     "name": "stderr",
     "output_type": "stream",
     "text": [
      " 50%|█████     | 5/10 [32:12<32:12, 386.46s/it]"
     ]
    },
    {
     "name": "stdout",
     "output_type": "stream",
     "text": [
      "0.0005423071100891039\n",
      "5 : 0.0042\n"
     ]
    },
    {
     "name": "stderr",
     "output_type": "stream",
     "text": [
      " 60%|██████    | 6/10 [38:38<25:45, 386.47s/it]"
     ]
    },
    {
     "name": "stdout",
     "output_type": "stream",
     "text": [
      "0.0004414372304011956\n",
      "6 : 0.0038\n"
     ]
    },
    {
     "name": "stderr",
     "output_type": "stream",
     "text": [
      " 70%|███████   | 7/10 [45:05<19:19, 386.51s/it]"
     ]
    },
    {
     "name": "stdout",
     "output_type": "stream",
     "text": [
      "0.00037556116328864563\n",
      "7 : 0.0035\n"
     ]
    },
    {
     "name": "stderr",
     "output_type": "stream",
     "text": [
      " 80%|████████  | 8/10 [51:31<12:53, 386.53s/it]"
     ]
    },
    {
     "name": "stdout",
     "output_type": "stream",
     "text": [
      "0.00031789050167565234\n",
      "8 : 0.0032\n"
     ]
    },
    {
     "name": "stderr",
     "output_type": "stream",
     "text": [
      " 90%|█████████ | 9/10 [57:58<06:26, 386.52s/it]"
     ]
    },
    {
     "name": "stdout",
     "output_type": "stream",
     "text": [
      "0.0002807572682089381\n",
      "9 : 0.0030\n"
     ]
    },
    {
     "name": "stderr",
     "output_type": "stream",
     "text": [
      "100%|██████████| 10/10 [1:04:24<00:00, 386.48s/it]"
     ]
    },
    {
     "name": "stdout",
     "output_type": "stream",
     "text": [
      "0.00023958180247004034\n"
     ]
    },
    {
     "name": "stderr",
     "output_type": "stream",
     "text": [
      "\n"
     ]
    }
   ],
   "source": [
    "test_loss = nn.MSELoss().cuda()\n",
    "loss = nn.SmoothL1Loss().cuda()\n",
    "trainer = torch.optim.Adam(net.parameters(), lr=0.0001)\n",
    "\n",
    "num_epochs = 10\n",
    "\n",
    "train_score_list = []\n",
    "test_score_list = []\n",
    "\n",
    "for epoch in tqdm.tqdm(range(num_epochs)):\n",
    "    loss_epoch = []\n",
    "    t = 0\n",
    "    for x, y in traindataLoader:\n",
    "        net.train()\n",
    "        t = t + 1\n",
    "        l = loss(net(x),y)\n",
    "        loss_epoch.append(l)\n",
    "        trainer.zero_grad()\n",
    "        l.backward()\n",
    "        trainer.step()\n",
    "    \n",
    "    print(str(epoch) +\" : \" + str((sum(loss_epoch)/t).item())[:6])\n",
    "    train_score =  float(str((sum(loss_epoch)/t).item())[:6])\n",
    "    train_score_list.append(train_score)   \n",
    "    \n",
    "    \n",
    "    test_score = 0\n",
    "    for x, y in testdataLoader:\n",
    "        net.eval()\n",
    "        with torch.no_grad(): \n",
    "            output = net(x) \n",
    "        MSE = test_loss(output ,y)\n",
    "#         print(MSE)\n",
    "\n",
    "        test_score += MSE.item()\n",
    "    test_score_list.append(test_score/3557) \n",
    "    print(test_score/3557)\n",
    "    name = str(epoch) + \".pkl\"\n",
    "    torch.save(net, name) "
   ]
  }
 ],
 "metadata": {
  "kernelspec": {
   "display_name": "Python 3.9.12 ('base')",
   "language": "python",
   "name": "python3"
  },
  "language_info": {
   "codemirror_mode": {
    "name": "ipython",
    "version": 3
   },
   "file_extension": ".py",
   "mimetype": "text/x-python",
   "name": "python",
   "nbconvert_exporter": "python",
   "pygments_lexer": "ipython3",
   "version": "3.9.12"
  },
  "vscode": {
   "interpreter": {
    "hash": "40d3a090f54c6569ab1632332b64b2c03c39dcf918b08424e98f38b5ae0af88f"
   }
  }
 },
 "nbformat": 4,
 "nbformat_minor": 5
}
