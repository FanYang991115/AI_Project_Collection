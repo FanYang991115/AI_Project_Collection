{
 "cells": [
  {
   "cell_type": "code",
   "execution_count": 1,
   "metadata": {},
   "outputs": [],
   "source": [
    "import torch\n",
    "from torchvision import transforms\n",
    "from torchvision.io import read_image\n",
    "from torch.utils.data import Dataset, DataLoader\n",
    "import torch.nn as nn\n",
    "import cv2\n",
    "import os\n",
    "import glob\n",
    "import numpy as np\n",
    "import random\n",
    "import matplotlib.pyplot as plt\n",
    "from PIL import Image\n",
    "from pathlib import Path\n",
    "import re\n",
    "import tqdm\n",
    "%matplotlib inline\n",
    "plt.style.use('bmh')\n",
    "torch.manual_seed(18)\n",
    "torch.set_default_tensor_type('torch.FloatTensor')\n",
    "g_cuda = torch.Generator(device='cuda')"
   ]
  },
  {
   "cell_type": "code",
   "execution_count": 2,
   "metadata": {},
   "outputs": [],
   "source": [
    "def load_img_folder(img_dir):\n",
    "    files = glob.glob(img_dir)\n",
    "    data = []\n",
    "    for f1 in files:\n",
    "        data.append(f1)\n",
    "    return data\n",
    "\n",
    "def sort_input(datalist):\n",
    "    pat=re.compile('\\d')\n",
    "    numlist = [i for i in pat.findall(datalist)][6:]\n",
    "    num = sum([int(j)*10**int(i) for i,j in enumerate(numlist[:-1][::-1])])*10+int(numlist[-1])\n",
    "    return num\n",
    "\n",
    "def sort_test(datalist):\n",
    "    pat=re.compile('\\d')\n",
    "    numlist = [i for i in pat.findall(datalist)][6:]\n",
    "    num = sum([int(j)*10**int(i) for i,j in enumerate(numlist[:][::-1])])\n",
    "    return num"
   ]
  },
  {
   "cell_type": "code",
   "execution_count": 3,
   "metadata": {},
   "outputs": [],
   "source": [
    "input_data = load_img_folder(\"/home/f.yang1/CAP5404/Part2/L/*.jpg\")\n",
    "label_data_a = load_img_folder(\"/home/f.yang1/CAP5404/Part2/a/*.jpg\")\n",
    "label_data_b = load_img_folder(\"/home/f.yang1/CAP5404/Part2/b/*.jpg\")\n",
    "input_data = sorted(input_data, key = sort_input)\n",
    "label_data_a = sorted(label_data_a, key = sort_input)\n",
    "label_data_b = sorted(label_data_b, key = sort_input)\n",
    "\n",
    "test_data = load_img_folder(\"/home/f.yang1/CAP5404/Part2/oriimge/*.jpg\")\n",
    "test_data = sorted(test_data, key = sort_test)[-75:]"
   ]
  },
  {
   "cell_type": "code",
   "execution_count": 4,
   "metadata": {},
   "outputs": [],
   "source": [
    "class Train_Dataset(Dataset):\n",
    "    def __init__(self):\n",
    "        self.input_data = input_data[:-750]\n",
    "        self.label_data_a = label_data_a[:-750]\n",
    "        self.label_data_b = label_data_b[:-750]\n",
    "        \n",
    "    def __getitem__(self, index):\n",
    "        X = cv2.imread(self.input_data[index],2)\n",
    "        y1 = cv2.imread(self.label_data_a[index],2)\n",
    "        y2 = cv2.imread(self.label_data_b[index],2)\n",
    "        X = transforms.ToTensor()(X).cuda()\n",
    "        y1 = torch.from_numpy(np.asarray(y1)).cuda()\n",
    "        y2 = torch.from_numpy(np.asarray(y2)).cuda()\n",
    "        \n",
    "        y = torch.stack((y1,y2))\n",
    "        return X, y\n",
    "\n",
    "    def __len__(self):\n",
    "        return len(self.input_data)\n",
    "    \n",
    "\n",
    "    \n",
    "class Test_Dataset(Dataset):\n",
    "    def __init__(self):\n",
    "        self.dataset = test_data\n",
    "        \n",
    "    def __getitem__(self, index):\n",
    "        img = cv2.imread(self.dataset[index])\n",
    "        img = cv2.cvtColor(img,cv2.COLOR_BGR2LAB)\n",
    "        L,a,b = cv2.split(img)\n",
    "        X = transforms.ToTensor()(L).cuda()\n",
    "        y1 = torch.from_numpy(np.asarray(a)).cuda()\n",
    "        y2 = torch.from_numpy(np.asarray(b)).cuda()\n",
    "        y = torch.stack((y1,y2))\n",
    "\n",
    "        return X, y\n",
    "\n",
    "    def __len__(self):\n",
    "        return len(self.dataset)"
   ]
  },
  {
   "cell_type": "code",
   "execution_count": 5,
   "metadata": {},
   "outputs": [],
   "source": [
    "# train input [batch size, 1, 128,128] label [batch size, 2,128,128]\n",
    "Train_data = Train_Dataset()\n",
    "Train_Dataloader = DataLoader(Train_data,batch_size=32,shuffle = True,drop_last=True)\n",
    "\n",
    "# test input [batch size, 1, 128,128] label [batch size, 2,128,128]\n",
    "Test_data = Test_Dataset()\n",
    "Test_Dataloader = DataLoader(Test_data,batch_size=75,shuffle = True)"
   ]
  },
  {
   "cell_type": "code",
   "execution_count": 6,
   "metadata": {},
   "outputs": [],
   "source": [
    "class DownsampleLayer(nn.Module):\n",
    "    def __init__(self,in_ch,out_ch):\n",
    "        super(DownsampleLayer, self).__init__()\n",
    "        self.Conv_BN_ReLU_2=nn.Sequential(\n",
    "            nn.Conv2d(in_channels=in_ch,out_channels=out_ch,kernel_size=3,stride=1,padding=1),\n",
    "            nn.BatchNorm2d(out_ch),\n",
    "            nn.ReLU(),\n",
    "            nn.Conv2d(in_channels=out_ch, out_channels=out_ch, kernel_size=3, stride=1,padding=1),\n",
    "            nn.BatchNorm2d(out_ch),\n",
    "            nn.ReLU()\n",
    "        )\n",
    "        self.downsample=nn.Sequential(\n",
    "            nn.Conv2d(in_channels=out_ch,out_channels=out_ch,kernel_size=3,stride=2,padding=1),\n",
    "            nn.BatchNorm2d(out_ch),\n",
    "            nn.ReLU()\n",
    "        )\n",
    "\n",
    "    def forward(self,x):\n",
    "        out=self.Conv_BN_ReLU_2(x)\n",
    "        out_2=self.downsample(out)\n",
    "        return out,out_2\n",
    "    \n",
    "class UpSampleLayer(nn.Module):\n",
    "    def __init__(self,in_ch,out_ch):\n",
    "        # 512-1024-512\n",
    "        # 1024-512-256\n",
    "        # 512-256-128\n",
    "        # 256-128-64\n",
    "        super(UpSampleLayer, self).__init__()\n",
    "        self.Conv_BN_ReLU_2 = nn.Sequential(\n",
    "            nn.Conv2d(in_channels=in_ch, out_channels=out_ch*2, kernel_size=3, stride=1,padding=1),\n",
    "            nn.BatchNorm2d(out_ch*2),\n",
    "            nn.ReLU(),\n",
    "            nn.Conv2d(in_channels=out_ch*2, out_channels=out_ch*2, kernel_size=3, stride=1,padding=1),\n",
    "            nn.BatchNorm2d(out_ch*2),\n",
    "            nn.ReLU()\n",
    "        )\n",
    "        self.upsample=nn.Sequential(\n",
    "            nn.ConvTranspose2d(in_channels=out_ch*2,out_channels=out_ch,kernel_size=3,stride=2,padding=1,output_padding=1),\n",
    "            nn.BatchNorm2d(out_ch),\n",
    "            nn.ReLU()\n",
    "        )\n",
    "\n",
    "    def forward(self,x,out):\n",
    "        x_out=self.Conv_BN_ReLU_2(x)\n",
    "        x_out=self.upsample(x_out)\n",
    "        cat_out=torch.cat((x_out,out),dim=1)\n",
    "        return cat_out\n"
   ]
  },
  {
   "cell_type": "code",
   "execution_count": 7,
   "metadata": {},
   "outputs": [
    {
     "data": {
      "text/plain": [
       "UNet(\n",
       "  (d1): DownsampleLayer(\n",
       "    (Conv_BN_ReLU_2): Sequential(\n",
       "      (0): Conv2d(1, 64, kernel_size=(3, 3), stride=(1, 1), padding=(1, 1))\n",
       "      (1): BatchNorm2d(64, eps=1e-05, momentum=0.1, affine=True, track_running_stats=True)\n",
       "      (2): ReLU()\n",
       "      (3): Conv2d(64, 64, kernel_size=(3, 3), stride=(1, 1), padding=(1, 1))\n",
       "      (4): BatchNorm2d(64, eps=1e-05, momentum=0.1, affine=True, track_running_stats=True)\n",
       "      (5): ReLU()\n",
       "    )\n",
       "    (downsample): Sequential(\n",
       "      (0): Conv2d(64, 64, kernel_size=(3, 3), stride=(2, 2), padding=(1, 1))\n",
       "      (1): BatchNorm2d(64, eps=1e-05, momentum=0.1, affine=True, track_running_stats=True)\n",
       "      (2): ReLU()\n",
       "    )\n",
       "  )\n",
       "  (d2): DownsampleLayer(\n",
       "    (Conv_BN_ReLU_2): Sequential(\n",
       "      (0): Conv2d(64, 128, kernel_size=(3, 3), stride=(1, 1), padding=(1, 1))\n",
       "      (1): BatchNorm2d(128, eps=1e-05, momentum=0.1, affine=True, track_running_stats=True)\n",
       "      (2): ReLU()\n",
       "      (3): Conv2d(128, 128, kernel_size=(3, 3), stride=(1, 1), padding=(1, 1))\n",
       "      (4): BatchNorm2d(128, eps=1e-05, momentum=0.1, affine=True, track_running_stats=True)\n",
       "      (5): ReLU()\n",
       "    )\n",
       "    (downsample): Sequential(\n",
       "      (0): Conv2d(128, 128, kernel_size=(3, 3), stride=(2, 2), padding=(1, 1))\n",
       "      (1): BatchNorm2d(128, eps=1e-05, momentum=0.1, affine=True, track_running_stats=True)\n",
       "      (2): ReLU()\n",
       "    )\n",
       "  )\n",
       "  (d3): DownsampleLayer(\n",
       "    (Conv_BN_ReLU_2): Sequential(\n",
       "      (0): Conv2d(128, 256, kernel_size=(3, 3), stride=(1, 1), padding=(1, 1))\n",
       "      (1): BatchNorm2d(256, eps=1e-05, momentum=0.1, affine=True, track_running_stats=True)\n",
       "      (2): ReLU()\n",
       "      (3): Conv2d(256, 256, kernel_size=(3, 3), stride=(1, 1), padding=(1, 1))\n",
       "      (4): BatchNorm2d(256, eps=1e-05, momentum=0.1, affine=True, track_running_stats=True)\n",
       "      (5): ReLU()\n",
       "    )\n",
       "    (downsample): Sequential(\n",
       "      (0): Conv2d(256, 256, kernel_size=(3, 3), stride=(2, 2), padding=(1, 1))\n",
       "      (1): BatchNorm2d(256, eps=1e-05, momentum=0.1, affine=True, track_running_stats=True)\n",
       "      (2): ReLU()\n",
       "    )\n",
       "  )\n",
       "  (d4): DownsampleLayer(\n",
       "    (Conv_BN_ReLU_2): Sequential(\n",
       "      (0): Conv2d(256, 512, kernel_size=(3, 3), stride=(1, 1), padding=(1, 1))\n",
       "      (1): BatchNorm2d(512, eps=1e-05, momentum=0.1, affine=True, track_running_stats=True)\n",
       "      (2): ReLU()\n",
       "      (3): Conv2d(512, 512, kernel_size=(3, 3), stride=(1, 1), padding=(1, 1))\n",
       "      (4): BatchNorm2d(512, eps=1e-05, momentum=0.1, affine=True, track_running_stats=True)\n",
       "      (5): ReLU()\n",
       "    )\n",
       "    (downsample): Sequential(\n",
       "      (0): Conv2d(512, 512, kernel_size=(3, 3), stride=(2, 2), padding=(1, 1))\n",
       "      (1): BatchNorm2d(512, eps=1e-05, momentum=0.1, affine=True, track_running_stats=True)\n",
       "      (2): ReLU()\n",
       "    )\n",
       "  )\n",
       "  (u1): UpSampleLayer(\n",
       "    (Conv_BN_ReLU_2): Sequential(\n",
       "      (0): Conv2d(512, 1024, kernel_size=(3, 3), stride=(1, 1), padding=(1, 1))\n",
       "      (1): BatchNorm2d(1024, eps=1e-05, momentum=0.1, affine=True, track_running_stats=True)\n",
       "      (2): ReLU()\n",
       "      (3): Conv2d(1024, 1024, kernel_size=(3, 3), stride=(1, 1), padding=(1, 1))\n",
       "      (4): BatchNorm2d(1024, eps=1e-05, momentum=0.1, affine=True, track_running_stats=True)\n",
       "      (5): ReLU()\n",
       "    )\n",
       "    (upsample): Sequential(\n",
       "      (0): ConvTranspose2d(1024, 512, kernel_size=(3, 3), stride=(2, 2), padding=(1, 1), output_padding=(1, 1))\n",
       "      (1): BatchNorm2d(512, eps=1e-05, momentum=0.1, affine=True, track_running_stats=True)\n",
       "      (2): ReLU()\n",
       "    )\n",
       "  )\n",
       "  (u2): UpSampleLayer(\n",
       "    (Conv_BN_ReLU_2): Sequential(\n",
       "      (0): Conv2d(1024, 512, kernel_size=(3, 3), stride=(1, 1), padding=(1, 1))\n",
       "      (1): BatchNorm2d(512, eps=1e-05, momentum=0.1, affine=True, track_running_stats=True)\n",
       "      (2): ReLU()\n",
       "      (3): Conv2d(512, 512, kernel_size=(3, 3), stride=(1, 1), padding=(1, 1))\n",
       "      (4): BatchNorm2d(512, eps=1e-05, momentum=0.1, affine=True, track_running_stats=True)\n",
       "      (5): ReLU()\n",
       "    )\n",
       "    (upsample): Sequential(\n",
       "      (0): ConvTranspose2d(512, 256, kernel_size=(3, 3), stride=(2, 2), padding=(1, 1), output_padding=(1, 1))\n",
       "      (1): BatchNorm2d(256, eps=1e-05, momentum=0.1, affine=True, track_running_stats=True)\n",
       "      (2): ReLU()\n",
       "    )\n",
       "  )\n",
       "  (u3): UpSampleLayer(\n",
       "    (Conv_BN_ReLU_2): Sequential(\n",
       "      (0): Conv2d(512, 256, kernel_size=(3, 3), stride=(1, 1), padding=(1, 1))\n",
       "      (1): BatchNorm2d(256, eps=1e-05, momentum=0.1, affine=True, track_running_stats=True)\n",
       "      (2): ReLU()\n",
       "      (3): Conv2d(256, 256, kernel_size=(3, 3), stride=(1, 1), padding=(1, 1))\n",
       "      (4): BatchNorm2d(256, eps=1e-05, momentum=0.1, affine=True, track_running_stats=True)\n",
       "      (5): ReLU()\n",
       "    )\n",
       "    (upsample): Sequential(\n",
       "      (0): ConvTranspose2d(256, 128, kernel_size=(3, 3), stride=(2, 2), padding=(1, 1), output_padding=(1, 1))\n",
       "      (1): BatchNorm2d(128, eps=1e-05, momentum=0.1, affine=True, track_running_stats=True)\n",
       "      (2): ReLU()\n",
       "    )\n",
       "  )\n",
       "  (u4): UpSampleLayer(\n",
       "    (Conv_BN_ReLU_2): Sequential(\n",
       "      (0): Conv2d(256, 128, kernel_size=(3, 3), stride=(1, 1), padding=(1, 1))\n",
       "      (1): BatchNorm2d(128, eps=1e-05, momentum=0.1, affine=True, track_running_stats=True)\n",
       "      (2): ReLU()\n",
       "      (3): Conv2d(128, 128, kernel_size=(3, 3), stride=(1, 1), padding=(1, 1))\n",
       "      (4): BatchNorm2d(128, eps=1e-05, momentum=0.1, affine=True, track_running_stats=True)\n",
       "      (5): ReLU()\n",
       "    )\n",
       "    (upsample): Sequential(\n",
       "      (0): ConvTranspose2d(128, 64, kernel_size=(3, 3), stride=(2, 2), padding=(1, 1), output_padding=(1, 1))\n",
       "      (1): BatchNorm2d(64, eps=1e-05, momentum=0.1, affine=True, track_running_stats=True)\n",
       "      (2): ReLU()\n",
       "    )\n",
       "  )\n",
       "  (o): Sequential(\n",
       "    (0): Conv2d(128, 64, kernel_size=(3, 3), stride=(1, 1), padding=(1, 1))\n",
       "    (1): BatchNorm2d(64, eps=1e-05, momentum=0.1, affine=True, track_running_stats=True)\n",
       "    (2): ReLU()\n",
       "    (3): Conv2d(64, 64, kernel_size=(3, 3), stride=(1, 1), padding=(1, 1))\n",
       "    (4): BatchNorm2d(64, eps=1e-05, momentum=0.1, affine=True, track_running_stats=True)\n",
       "    (5): ReLU()\n",
       "    (6): Conv2d(64, 2, kernel_size=(3, 3), stride=(1, 1), padding=(1, 1))\n",
       "  )\n",
       ")"
      ]
     },
     "execution_count": 7,
     "metadata": {},
     "output_type": "execute_result"
    }
   ],
   "source": [
    "class UNet(nn.Module):\n",
    "    def __init__(self):\n",
    "        super(UNet, self).__init__()\n",
    "        out_channels=[2**(i+6) for i in range(5)] #[64, 128, 256, 512, 1024]\n",
    "\n",
    "        self.d1=DownsampleLayer(1,out_channels[0])#3-64\n",
    "        self.d2=DownsampleLayer(out_channels[0],out_channels[1])#64-128\n",
    "        self.d3=DownsampleLayer(out_channels[1],out_channels[2])#128-256\n",
    "        self.d4=DownsampleLayer(out_channels[2],out_channels[3])#256-512\n",
    "\n",
    "        self.u1=UpSampleLayer(out_channels[3],out_channels[3])#512-1024-512\n",
    "        self.u2=UpSampleLayer(out_channels[4],out_channels[2])#1024-512-256\n",
    "        self.u3=UpSampleLayer(out_channels[3],out_channels[1])#512-256-128\n",
    "        self.u4=UpSampleLayer(out_channels[2],out_channels[0])#256-128-64\n",
    "\n",
    "        self.o=nn.Sequential(\n",
    "            nn.Conv2d(out_channels[1],out_channels[0],kernel_size=3,stride=1,padding=1),\n",
    "            nn.BatchNorm2d(out_channels[0]),\n",
    "            nn.ReLU(),\n",
    "            nn.Conv2d(out_channels[0], out_channels[0], kernel_size=3, stride=1, padding=1),\n",
    "            nn.BatchNorm2d(out_channels[0]),\n",
    "            nn.ReLU(),\n",
    "            nn.Conv2d(out_channels[0],2,3,1,1),\n",
    "        )\n",
    "    def forward(self,x):\n",
    "        out_1,out1=self.d1(x)\n",
    "        out_2,out2=self.d2(out1)\n",
    "        out_3,out3=self.d3(out2)\n",
    "        out_4,out4=self.d4(out3)\n",
    "        out5=self.u1(out4,out_4)\n",
    "        out6=self.u2(out5,out_3)\n",
    "        out7=self.u3(out6,out_2)\n",
    "        out8=self.u4(out7,out_1)\n",
    "        out=self.o(out8)\n",
    "        return out\n",
    "    \n",
    "\n",
    "def init_weights(layer):\n",
    "\n",
    "    if type(layer) == nn.Conv2d:\n",
    "        nn.init.normal_(layer.weight, mean=0, std=0.5)\n",
    "        \n",
    "net = UNet().cuda()\n",
    "net.apply(init_weights)"
   ]
  },
  {
   "cell_type": "code",
   "execution_count": 8,
   "metadata": {},
   "outputs": [],
   "source": [
    "a = torch.rand(1,1,128,128).cuda()"
   ]
  },
  {
   "cell_type": "code",
   "execution_count": 9,
   "metadata": {},
   "outputs": [
    {
     "data": {
      "text/plain": [
       "torch.Size([1, 2, 128, 128])"
      ]
     },
     "execution_count": 9,
     "metadata": {},
     "output_type": "execute_result"
    }
   ],
   "source": [
    "net(a).shape"
   ]
  },
  {
   "cell_type": "code",
   "execution_count": 10,
   "metadata": {},
   "outputs": [
    {
     "name": "stderr",
     "output_type": "stream",
     "text": [
      "100%|██████████| 10/10 [11:09<00:00, 66.92s/it]\n"
     ]
    }
   ],
   "source": [
    "loss = nn.SmoothL1Loss().cuda()\n",
    "trainer = torch.optim.Adam(net.parameters(), lr=0.0001)\n",
    "num_epochs = 10\n",
    "loss_item = []\n",
    "for epoch in tqdm.tqdm(range(num_epochs)):\n",
    "    for X,y in Train_Dataloader:\n",
    "        l = loss(net(X.float()) ,y.float())\n",
    "        trainer.zero_grad()\n",
    "        l.backward()\n",
    "        trainer.step()\n",
    "        loss_item.append(l.cpu().item())\n",
    "#     print(l)"
   ]
  },
  {
   "cell_type": "code",
   "execution_count": 13,
   "metadata": {},
   "outputs": [
    {
     "data": {
      "text/plain": [
       "Text(0.5, 1.0, 'FCN')"
      ]
     },
     "execution_count": 13,
     "metadata": {},
     "output_type": "execute_result"
    },
    {
     "data": {
      "image/png": "[encoded data removed]",
      "text/plain": [
       "<Figure size 432x288 with 1 Axes>"
      ]
     },
     "metadata": {
      "needs_background": "light"
     },
     "output_type": "display_data"
    }
   ],
   "source": [
    "len(loss_item)\n",
    "x = [i for i in range(4210)]\n",
    "plt.scatter(x,loss_item)\n",
    "plt.xlabel(\"epoch\")\n",
    "plt.ylabel(\"SmoothL1Loss\")\n",
    "plt.title(\"FCN\")"
   ]
  },
  {
   "cell_type": "code",
   "execution_count": 14,
   "metadata": {},
   "outputs": [
    {
     "name": "stdout",
     "output_type": "stream",
     "text": [
      "CNN: on the test dataset MSE = 615.4189453125\n"
     ]
    }
   ],
   "source": [
    "net.eval()\n",
    "test_loss = nn.MSELoss().cuda()\n",
    "for X,y in Test_Dataloader:\n",
    "    with torch.no_grad(): \n",
    "        output = net(X.float()) \n",
    "    MSE = test_loss(y,output).item()\n",
    "print(\"CNN: on the test dataset MSE = {}\".format(MSE))"
   ]
  }
 ],
 "metadata": {
  "kernelspec": {
   "display_name": "PyTorch-1.10",
   "language": "python",
   "name": "pytorch-1.10"
  },
  "language_info": {
   "codemirror_mode": {
    "name": "ipython",
    "version": 3
   },
   "file_extension": ".py",
   "mimetype": "text/x-python",
   "name": "python",
   "nbconvert_exporter": "python",
   "pygments_lexer": "ipython3",
   "version": "3.9.7"
  }
 },
 "nbformat": 4,
 "nbformat_minor": 4
}
