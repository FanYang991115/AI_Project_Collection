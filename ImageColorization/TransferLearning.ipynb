{
 "cells": [
  {
   "cell_type": "code",
   "execution_count": 1,
   "metadata": {},
   "outputs": [],
   "source": [
    "import torch\n",
    "from torchvision import transforms\n",
    "from torchvision.io import read_image\n",
    "from torch.utils.data import Dataset, DataLoader\n",
    "import torch.nn as nn\n",
    "import cv2\n",
    "import os\n",
    "import glob\n",
    "import numpy as np\n",
    "import random\n",
    "import matplotlib.pyplot as plt\n",
    "from PIL import Image\n",
    "from pathlib import Path\n",
    "import re\n",
    "import tqdm\n",
    "\n",
    "%matplotlib inline\n",
    "plt.style.use('bmh')\n",
    "torch.manual_seed(18)\n",
    "torch.set_default_tensor_type('torch.FloatTensor')\n",
    "g_cuda = torch.Generator(device='cuda')"
   ]
  },
  {
   "cell_type": "code",
   "execution_count": 2,
   "metadata": {},
   "outputs": [],
   "source": [
    "file= []\n",
    "dir = []\n",
    "def list_dir(start_dir):\n",
    "    dir_res = os.listdir(start_dir)\n",
    "    for path in dir_res:\n",
    "        temp_path = start_dir + '/' + path\n",
    "        if os.path.isfile(temp_path):\n",
    "            file.append(temp_path)\n",
    "        if os.path.isdir(temp_path):\n",
    "            dir.append(temp_path)\n",
    "            list_dir(temp_path)\n",
    "\n",
    "# 721 images\n",
    "list_dir(\"/home/f.yang1/CAP5404/Part2/ColorfulOriginal//\")\n",
    "file.sort()"
   ]
  },
  {
   "cell_type": "code",
   "execution_count": 3,
   "metadata": {},
   "outputs": [],
   "source": [
    "train_data = file[:-50]\n",
    "test_data = file[-50:]"
   ]
  },
  {
   "cell_type": "code",
   "execution_count": 4,
   "metadata": {},
   "outputs": [],
   "source": [
    "class Train_Dataset(Dataset):\n",
    "    def __init__(self):\n",
    "        self.input_data = train_data\n",
    "        \n",
    "    def __getitem__(self, index):\n",
    "        img = cv2.imread(self.input_data[index])\n",
    "        img = cv2.resize(img,(128,128))\n",
    "        LAB = cv2.cvtColor(img,cv2.COLOR_BGR2LAB)\n",
    "        L1,a1,b1 = cv2.split(LAB)\n",
    "        X = transforms.ToTensor()(L1).cuda()\n",
    "        y1 = torch.from_numpy(np.array(a1)).cuda()\n",
    "        y2 = torch.from_numpy(np.array(b1)).cuda()\n",
    "        y = torch.stack((y1,y2))\n",
    "        return X, y\n",
    "\n",
    "    def __len__(self):\n",
    "        return len(self.input_data)\n",
    "    \n",
    "class Test_Dataset(Dataset):\n",
    "    def __init__(self):\n",
    "        self.dataset = test_data\n",
    "        \n",
    "    def __getitem__(self, index):\n",
    "        img = cv2.imread(self.dataset[index])\n",
    "        img = cv2.resize(img,(128,128))\n",
    "\n",
    "        img = cv2.cvtColor(img,cv2.COLOR_BGR2LAB)\n",
    "        L2,a2,b2 = cv2.split(img)\n",
    "        X = transforms.ToTensor()(L2).cuda()\n",
    "        y1 = torch.from_numpy(np.asarray(a2)).cuda()\n",
    "        y2 = torch.from_numpy(np.asarray(b2)).cuda()\n",
    "        y = torch.stack((y1,y2))\n",
    "\n",
    "        return X, y\n",
    "\n",
    "    def __len__(self):\n",
    "        return len(self.dataset)"
   ]
  },
  {
   "cell_type": "code",
   "execution_count": 5,
   "metadata": {},
   "outputs": [],
   "source": [
    "# train input [batch size, 1, 128,128] label [batch size, 2,128,128]\n",
    "Train_data = Train_Dataset()\n",
    "Train_Dataloader = DataLoader(Train_data,batch_size=1,shuffle = True,drop_last=True)\n",
    "\n",
    "# test input [batch size, 1, 128,128] label [batch size, 2,128,128]\n",
    "Test_data = Test_Dataset()\n",
    "Test_Dataloader = DataLoader(Test_data,batch_size=1)"
   ]
  },
  {
   "cell_type": "code",
   "execution_count": 6,
   "metadata": {},
   "outputs": [
    {
     "data": {
      "text/plain": [
       "torch.Size([1, 3, 120, 181])"
      ]
     },
     "execution_count": 6,
     "metadata": {},
     "output_type": "execute_result"
    }
   ],
   "source": [
    "a = torch.rand(1,1,240,362)\n",
    "net =  nn.Conv2d(in_channels=1,out_channels=3,kernel_size=3,stride=2,padding=1)\n",
    "net(a).shape"
   ]
  },
  {
   "cell_type": "code",
   "execution_count": 7,
   "metadata": {},
   "outputs": [],
   "source": [
    "class DownsampleLayer(nn.Module):\n",
    "    def __init__(self,in_ch,out_ch):\n",
    "        super(DownsampleLayer, self).__init__()\n",
    "        self.downsample=nn.Sequential(\n",
    "            nn.Conv2d(in_channels=in_ch,out_channels=out_ch,kernel_size=3,stride=2,padding=1),\n",
    "            nn.BatchNorm2d(out_ch),\n",
    "            nn.ReLU()\n",
    "        )\n",
    "    def forward(self,x):\n",
    "        out=self.downsample(x)\n",
    "        return out"
   ]
  },
  {
   "cell_type": "code",
   "execution_count": 8,
   "metadata": {},
   "outputs": [],
   "source": [
    "class UpSampleLayer(nn.Module):\n",
    "    def __init__(self,in_ch,out_ch,last = False):\n",
    "        super(UpSampleLayer, self).__init__()\n",
    "        if last:\n",
    "            self.upsample=nn.Sequential(\n",
    "                nn.ConvTranspose2d(in_channels=in_ch,out_channels=out_ch,kernel_size=3,stride=2,padding=1,output_padding=1),\n",
    "            )\n",
    "        else:\n",
    "            self.upsample=nn.Sequential(\n",
    "                nn.ConvTranspose2d(in_channels=in_ch,out_channels=out_ch,kernel_size=3,stride=2,padding=1,output_padding=1),\n",
    "                nn.BatchNorm2d(out_ch),\n",
    "                nn.ReLU()\n",
    "            )\n",
    "    def forward(self,x):\n",
    "        x_out=self.upsample(x)\n",
    "        return x_out"
   ]
  },
  {
   "cell_type": "code",
   "execution_count": 9,
   "metadata": {},
   "outputs": [],
   "source": [
    "class CNN(torch.nn.Module):\n",
    "    def __init__(self):\n",
    "        super(CNN, self).__init__()\n",
    "        out_channels=[2**(i+5) for i in range(5)]\n",
    "        # down\n",
    "        self.d1=DownsampleLayer(1,out_channels[0])\n",
    "        self.d2=DownsampleLayer(out_channels[0],out_channels[1])\n",
    "        self.d3=DownsampleLayer(out_channels[1],out_channels[2])\n",
    "        self.d4=DownsampleLayer(out_channels[2],out_channels[3])\n",
    "        self.d5=DownsampleLayer(out_channels[3],out_channels[4])\n",
    "\n",
    "        # up\n",
    "        self.u1=UpSampleLayer(out_channels[4],out_channels[3])\n",
    "        self.u2=UpSampleLayer(out_channels[3],out_channels[2])\n",
    "        self.u3=UpSampleLayer(out_channels[2],out_channels[1])\n",
    "        self.u4=UpSampleLayer(out_channels[1],out_channels[0])\n",
    "        self.u5=UpSampleLayer(out_channels[0], 2, last= True)\n",
    "\n",
    "    def forward(self, x):\n",
    "        d1 = self.d1(x)\n",
    "        d2 = self.d2(d1)\n",
    "        d3 = self.d3(d2)\n",
    "        d4 = self.d4(d3)\n",
    "        d5 = self.d5(d4)\n",
    "        u1 = self.u1(d5)\n",
    "        u2 = self.u2(u1)\n",
    "        u3 = self.u3(u2)\n",
    "        u4 = self.u4(u3)\n",
    "        u5 = self.u5(u4)\n",
    "        \n",
    "        return u5\n",
    "        \n",
    "        \n",
    "# def init_weights(layer):\n",
    "\n",
    "#     if type(layer) == nn.Conv2d:\n",
    "#         nn.init.normal_(layer.weight, mean=0, std=0.5)\n",
    "        \n",
    "# net = CNN().cuda()\n",
    "# net.apply(init_weights)"
   ]
  },
  {
   "cell_type": "code",
   "execution_count": 10,
   "metadata": {},
   "outputs": [],
   "source": [
    "net = torch.load(\"colorization.pt\").cuda()\n",
    "# net = CNN().cuda()"
   ]
  },
  {
   "cell_type": "code",
   "execution_count": 11,
   "metadata": {},
   "outputs": [
    {
     "name": "stderr",
     "output_type": "stream",
     "text": [
      "100%|██████████| 5/5 [00:03<00:00,  1.41it/s]\n"
     ]
    }
   ],
   "source": [
    "loss = nn.SmoothL1Loss().cuda()\n",
    "trainer = torch.optim.Adam(net.parameters(), lr=0.01)\n",
    "num_epochs = 5\n",
    "loss_item = []\n",
    "for epoch in tqdm.tqdm(range(num_epochs)):\n",
    "    for X,y in Test_Dataloader:\n",
    "        l = loss(net(X) ,y)\n",
    "        trainer.zero_grad()\n",
    "        l.backward()\n",
    "        trainer.step()\n",
    "        loss_item.append(l.cpu().item())\n",
    "#     print(l)"
   ]
  },
  {
   "cell_type": "code",
   "execution_count": 12,
   "metadata": {},
   "outputs": [
    {
     "data": {
      "text/plain": [
       "Text(0, 0.5, 'SmoothL1Loss')"
      ]
     },
     "execution_count": 12,
     "metadata": {},
     "output_type": "execute_result"
    },
    {
     "data": {
      "image/png": "[encoded data removed]",
      "text/plain": [
       "<Figure size 432x288 with 1 Axes>"
      ]
     },
     "metadata": {
      "needs_background": "light"
     },
     "output_type": "display_data"
    }
   ],
   "source": [
    "len(loss_item)\n",
    "x = [i for i in range(250)]\n",
    "plt.scatter(x,loss_item)\n",
    "plt.xlabel(\"epoch\")\n",
    "plt.ylabel(\"SmoothL1Loss\")"
   ]
  },
  {
   "cell_type": "code",
   "execution_count": 13,
   "metadata": {},
   "outputs": [
    {
     "name": "stdout",
     "output_type": "stream",
     "text": [
      "CNN: on the test dataset MSE = 74.2396240234375\n"
     ]
    }
   ],
   "source": [
    "net.eval()\n",
    "test_loss = nn.MSELoss().cuda()\n",
    "for X,y in Test_Dataloader:\n",
    "    with torch.no_grad(): \n",
    "        output = net(X.float()) \n",
    "    MSE = test_loss(y,output).item()\n",
    "print(\"CNN: on the test dataset MSE = {}\".format(MSE))"
   ]
  },
  {
   "cell_type": "code",
   "execution_count": 17,
   "metadata": {},
   "outputs": [
    {
     "name": "stdout",
     "output_type": "stream",
     "text": [
      "CNN: on the test dataset MSE = 84.63421630859375\n"
     ]
    }
   ],
   "source": [
    "Test_data = Test_Dataset()\n",
    "Test_Dataloader = DataLoader(Test_data,batch_size=1,shuffle = True)\n",
    "\n",
    "net.eval()\n",
    "test_loss = nn.MSELoss().cuda()\n",
    "i=0\n",
    "for X,y in Test_Dataloader:\n",
    "    with torch.no_grad(): \n",
    "        output = net(X.float()) \n",
    "        MSE = test_loss(y,output).item()\n",
    "        output = output.squeeze().cpu().numpy()\n",
    "        output = output.transpose(1,2,0)\n",
    "        a,b = np.array(cv2.split(output)).astype('uint8')\n",
    "        L = X.reshape(128,128).cpu().numpy()*255\n",
    "        L = L.astype('uint8')\n",
    "        LAB = np.stack([L,a,b])\n",
    "        LAB = LAB.transpose(1,2,0)\n",
    "        RGB_img = cv2.cvtColor(LAB,cv2.COLOR_LAB2BGR)\n",
    "        cv2.imwrite(\"results_img/fruit{}.jpg\".format(i),RGB_img)\n",
    "        i+=1\n",
    "print(\"CNN: on the test dataset MSE = {}\".format(MSE))"
   ]
  },
  {
   "cell_type": "code",
   "execution_count": 116,
   "metadata": {},
   "outputs": [],
   "source": [
    "output = output.squeeze().cpu().numpy()\n",
    "output = output.transpose(1,2,0)\n",
    "a,b = np.array(cv2.split(output)).astype('uint8')\n",
    "L = X.reshape(128,128).cpu().numpy()*255\n",
    "L = L.astype('uint8')\n",
    "LAB = np.stack([L,a,b])\n",
    "LAB = LAB.transpose(1,2,0)\n",
    "RGB_img = cv2.cvtColor(LAB,cv2.COLOR_LAB2RGB)"
   ]
  },
  {
   "cell_type": "code",
   "execution_count": 127,
   "metadata": {},
   "outputs": [
    {
     "data": {
      "text/plain": [
       "True"
      ]
     },
     "execution_count": 127,
     "metadata": {},
     "output_type": "execute_result"
    },
    {
     "data": {
      "image/png": "[encoded data removed]",
      "text/plain": [
       "<Figure size 432x288 with 1 Axes>"
      ]
     },
     "metadata": {
      "needs_background": "light"
     },
     "output_type": "display_data"
    }
   ],
   "source": [
    "plt.imshow(RGB_img)\n",
    "cv2.imwrite(\"1.jpg\",RGB_img)"
   ]
  },
  {
   "cell_type": "code",
   "execution_count": 126,
   "metadata": {},
   "outputs": [
    {
     "name": "stdout",
     "output_type": "stream",
     "text": [
      "on this test image PSNR = 30.109025873306\n"
     ]
    }
   ],
   "source": [
    "import math\n",
    "def psnr(img1, img2):\n",
    "    mse = np.mean((img1 - img2) ** 2 )\n",
    "    if mse == 0:\n",
    "        return 100\n",
    "    PIXEL_MAX = 255.0\n",
    "    return 20 * math.log10(PIXEL_MAX / math.sqrt(mse))\n",
    "img = cv2.imread(test_data[0])\n",
    "img = cv2.resize(img,(128,128))\n",
    "img = cv2.cvtColor(img,cv2.COLOR_BGR2RGB).astype('uint8')\n",
    "measure = psnr(RGB_img,img)\n",
    "print(\"on this test image PSNR = {}\".format(measure))"
   ]
  }
 ],
 "metadata": {
  "kernelspec": {
   "display_name": "PyTorch-1.10",
   "language": "python",
   "name": "pytorch-1.10"
  },
  "language_info": {
   "codemirror_mode": {
    "name": "ipython",
    "version": 3
   },
   "file_extension": ".py",
   "mimetype": "text/x-python",
   "name": "python",
   "nbconvert_exporter": "python",
   "pygments_lexer": "ipython3",
   "version": "3.9.7"
  }
 },
 "nbformat": 4,
 "nbformat_minor": 4
}
