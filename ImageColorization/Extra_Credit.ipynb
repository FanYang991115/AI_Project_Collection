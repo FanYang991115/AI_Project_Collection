{
 "cells": [
  {
   "cell_type": "markdown",
   "metadata": {},
   "source": [
    "# GPU VS CPU"
   ]
  },
  {
   "cell_type": "code",
   "execution_count": 1,
   "metadata": {},
   "outputs": [],
   "source": [
    "import torch\n",
    "from torchvision import transforms\n",
    "from torchvision.io import read_image\n",
    "from torch.utils.data import Dataset, DataLoader\n",
    "import torch.nn as nn\n",
    "import cv2\n",
    "import os\n",
    "import glob\n",
    "import numpy as np\n",
    "import random\n",
    "import matplotlib.pyplot as plt\n",
    "from PIL import Image\n",
    "from pathlib import Path\n",
    "import re\n",
    "import tqdm\n",
    "import time\n",
    "%matplotlib inline\n",
    "plt.style.use('bmh')\n",
    "torch.manual_seed(18)\n",
    "torch.set_default_tensor_type('torch.FloatTensor')\n",
    "g_cuda = torch.Generator(device='cuda')"
   ]
  },
  {
   "cell_type": "code",
   "execution_count": 3,
   "metadata": {},
   "outputs": [],
   "source": [
    "def load_img_folder(img_dir):\n",
    "    files = glob.glob(img_dir)\n",
    "    data = []\n",
    "    for f1 in files:\n",
    "        data.append(f1)\n",
    "    return data\n",
    "\n",
    "def sort_input(datalist):\n",
    "    pat=re.compile('\\d')\n",
    "    numlist = [i for i in pat.findall(datalist)][6:]\n",
    "    num = sum([int(j)*10**int(i) for i,j in enumerate(numlist[:-1][::-1])])*10+int(numlist[-1])\n",
    "    return num\n",
    "\n",
    "def sort_test(datalist):\n",
    "    pat=re.compile('\\d')\n",
    "    numlist = [i for i in pat.findall(datalist)][6:]\n",
    "    num = sum([int(j)*10**int(i) for i,j in enumerate(numlist[:][::-1])])\n",
    "    return num"
   ]
  },
  {
   "cell_type": "code",
   "execution_count": 18,
   "metadata": {},
   "outputs": [],
   "source": [
    "input_data = load_img_folder(\"/home/f.yang1/CAP5404/Part2/L/*.jpg\")\n",
    "label_data_a = load_img_folder(\"/home/f.yang1/CAP5404/Part2/a/*.jpg\")\n",
    "label_data_b = load_img_folder(\"/home/f.yang1/CAP5404/Part2/b/*.jpg\")\n",
    "input_data = sorted(input_data, key = sort_input)\n",
    "label_data_a = sorted(label_data_a, key = sort_input)\n",
    "label_data_b = sorted(label_data_b, key = sort_input)\n",
    "\n",
    "test_data = load_img_folder(\"/home/f.yang1/CAP5404/Part2/oriimge/*.jpg\")\n",
    "test_data = sorted(test_data, key = sort_test)[-75:]\n",
    "\n",
    "meana = 0\n",
    "stda = 0\n",
    "meanb = 0\n",
    "stdb = 0\n",
    "for i in label_data_a:\n",
    "    img = cv2.imread(i,2)\n",
    "    meana += np.mean(img)\n",
    "    stda += np.std(img)    \n",
    "for i in label_data_b:\n",
    "    img = cv2.imread(i,2)\n",
    "    meanb += np.mean(img)\n",
    "    stdb += np.std(img)    \n",
    "meana = meana/len(input_data)\n",
    "meanb = meanb/len(input_data)\n",
    "stda = stda/len(input_data)\n",
    "stdb = stdb/len(input_data)"
   ]
  },
  {
   "cell_type": "code",
   "execution_count": 5,
   "metadata": {},
   "outputs": [],
   "source": [
    "class Train_Dataset(Dataset):\n",
    "    def __init__(self):\n",
    "        self.input_data = input_data[:-750]\n",
    "        self.label_data_a = label_data_a[:-750]\n",
    "        self.label_data_b = label_data_b[:-750]\n",
    "        \n",
    "    def __getitem__(self, index):\n",
    "        X = cv2.imread(self.input_data[index],2)\n",
    "        y1 = cv2.imread(self.label_data_a[index],2)\n",
    "        y2 = cv2.imread(self.label_data_b[index],2)\n",
    "        X = transforms.ToTensor()(X).cuda()\n",
    "        y1 = torch.from_numpy(np.asarray(y1)).cuda()\n",
    "        y2 = torch.from_numpy(np.asarray(y2)).cuda()\n",
    "        \n",
    "        y = torch.stack((y1,y2))\n",
    "        return X, y\n",
    "\n",
    "    def __len__(self):\n",
    "        return len(self.input_data)\n",
    "    \n",
    "\n",
    "    \n",
    "class Test_Dataset(Dataset):\n",
    "    def __init__(self):\n",
    "        self.dataset = test_data\n",
    "        \n",
    "    def __getitem__(self, index):\n",
    "        img = cv2.imread(self.dataset[index])\n",
    "        img = cv2.cvtColor(img,cv2.COLOR_BGR2LAB)\n",
    "        L,a,b = cv2.split(img)\n",
    "        X = transforms.ToTensor()(L).cuda()\n",
    "        y1 = torch.from_numpy(np.asarray(a)).cuda()\n",
    "        y2 = torch.from_numpy(np.asarray(b)).cuda()\n",
    "        y = torch.stack((y1,y2))\n",
    "\n",
    "        return X, y\n",
    "\n",
    "    def __len__(self):\n",
    "        return len(self.dataset)"
   ]
  },
  {
   "cell_type": "code",
   "execution_count": 6,
   "metadata": {},
   "outputs": [],
   "source": [
    "# train input [batch size, 1, 128,128] label [batch size, 2,128,128]\n",
    "Train_data = Train_Dataset()\n",
    "Train_Dataloader = DataLoader(Train_data,batch_size=32,shuffle = True,drop_last=True)\n",
    "\n",
    "# test input [batch size, 1, 128,128] label [batch size, 2,128,128]\n",
    "Test_data = Test_Dataset()\n",
    "Test_Dataloader = DataLoader(Test_data,batch_size=75,shuffle = True)"
   ]
  },
  {
   "cell_type": "code",
   "execution_count": 23,
   "metadata": {},
   "outputs": [],
   "source": [
    "class DownsampleLayer(nn.Module):\n",
    "    def __init__(self,in_ch,out_ch):\n",
    "        super(DownsampleLayer, self).__init__()\n",
    "        self.downsample=nn.Sequential(\n",
    "            nn.Conv2d(in_channels=in_ch,out_channels=out_ch,kernel_size=3,stride=2,padding=1),\n",
    "            nn.BatchNorm2d(out_ch),\n",
    "            nn.ReLU()\n",
    "        )\n",
    "    def forward(self,x):\n",
    "        out=self.downsample(x)\n",
    "        return out"
   ]
  },
  {
   "cell_type": "code",
   "execution_count": 7,
   "metadata": {},
   "outputs": [],
   "source": [
    "class UpSampleLayer(nn.Module):\n",
    "    def __init__(self,in_ch,out_ch,last = False):\n",
    "        super(UpSampleLayer, self).__init__()\n",
    "        if last:\n",
    "            self.upsample=nn.Sequential(\n",
    "                nn.ConvTranspose2d(in_channels=in_ch,out_channels=out_ch,kernel_size=3,stride=2,padding=1,output_padding=1),\n",
    "            )\n",
    "        else:\n",
    "            self.upsample=nn.Sequential(\n",
    "                nn.ConvTranspose2d(in_channels=in_ch,out_channels=out_ch,kernel_size=3,stride=2,padding=1,output_padding=1),\n",
    "                nn.BatchNorm2d(out_ch),\n",
    "                nn.ReLU()\n",
    "            )\n",
    "    def forward(self,x):\n",
    "        x_out=self.upsample(x)\n",
    "        return x_out"
   ]
  },
  {
   "cell_type": "code",
   "execution_count": 8,
   "metadata": {},
   "outputs": [
    {
     "data": {
      "text/plain": [
       "CNN(\n",
       "  (d1): DownsampleLayer(\n",
       "    (downsample): Sequential(\n",
       "      (0): Conv2d(1, 32, kernel_size=(3, 3), stride=(2, 2), padding=(1, 1))\n",
       "      (1): BatchNorm2d(32, eps=1e-05, momentum=0.1, affine=True, track_running_stats=True)\n",
       "      (2): ReLU()\n",
       "    )\n",
       "  )\n",
       "  (d2): DownsampleLayer(\n",
       "    (downsample): Sequential(\n",
       "      (0): Conv2d(32, 64, kernel_size=(3, 3), stride=(2, 2), padding=(1, 1))\n",
       "      (1): BatchNorm2d(64, eps=1e-05, momentum=0.1, affine=True, track_running_stats=True)\n",
       "      (2): ReLU()\n",
       "    )\n",
       "  )\n",
       "  (d3): DownsampleLayer(\n",
       "    (downsample): Sequential(\n",
       "      (0): Conv2d(64, 128, kernel_size=(3, 3), stride=(2, 2), padding=(1, 1))\n",
       "      (1): BatchNorm2d(128, eps=1e-05, momentum=0.1, affine=True, track_running_stats=True)\n",
       "      (2): ReLU()\n",
       "    )\n",
       "  )\n",
       "  (d4): DownsampleLayer(\n",
       "    (downsample): Sequential(\n",
       "      (0): Conv2d(128, 256, kernel_size=(3, 3), stride=(2, 2), padding=(1, 1))\n",
       "      (1): BatchNorm2d(256, eps=1e-05, momentum=0.1, affine=True, track_running_stats=True)\n",
       "      (2): ReLU()\n",
       "    )\n",
       "  )\n",
       "  (d5): DownsampleLayer(\n",
       "    (downsample): Sequential(\n",
       "      (0): Conv2d(256, 512, kernel_size=(3, 3), stride=(2, 2), padding=(1, 1))\n",
       "      (1): BatchNorm2d(512, eps=1e-05, momentum=0.1, affine=True, track_running_stats=True)\n",
       "      (2): ReLU()\n",
       "    )\n",
       "  )\n",
       "  (u1): UpSampleLayer(\n",
       "    (upsample): Sequential(\n",
       "      (0): ConvTranspose2d(512, 256, kernel_size=(3, 3), stride=(2, 2), padding=(1, 1), output_padding=(1, 1))\n",
       "      (1): BatchNorm2d(256, eps=1e-05, momentum=0.1, affine=True, track_running_stats=True)\n",
       "      (2): ReLU()\n",
       "    )\n",
       "  )\n",
       "  (u2): UpSampleLayer(\n",
       "    (upsample): Sequential(\n",
       "      (0): ConvTranspose2d(256, 128, kernel_size=(3, 3), stride=(2, 2), padding=(1, 1), output_padding=(1, 1))\n",
       "      (1): BatchNorm2d(128, eps=1e-05, momentum=0.1, affine=True, track_running_stats=True)\n",
       "      (2): ReLU()\n",
       "    )\n",
       "  )\n",
       "  (u3): UpSampleLayer(\n",
       "    (upsample): Sequential(\n",
       "      (0): ConvTranspose2d(128, 64, kernel_size=(3, 3), stride=(2, 2), padding=(1, 1), output_padding=(1, 1))\n",
       "      (1): BatchNorm2d(64, eps=1e-05, momentum=0.1, affine=True, track_running_stats=True)\n",
       "      (2): ReLU()\n",
       "    )\n",
       "  )\n",
       "  (u4): UpSampleLayer(\n",
       "    (upsample): Sequential(\n",
       "      (0): ConvTranspose2d(64, 32, kernel_size=(3, 3), stride=(2, 2), padding=(1, 1), output_padding=(1, 1))\n",
       "      (1): BatchNorm2d(32, eps=1e-05, momentum=0.1, affine=True, track_running_stats=True)\n",
       "      (2): ReLU()\n",
       "    )\n",
       "  )\n",
       "  (u5): UpSampleLayer(\n",
       "    (upsample): Sequential(\n",
       "      (0): ConvTranspose2d(32, 2, kernel_size=(3, 3), stride=(2, 2), padding=(1, 1), output_padding=(1, 1))\n",
       "    )\n",
       "  )\n",
       ")"
      ]
     },
     "execution_count": 8,
     "metadata": {},
     "output_type": "execute_result"
    }
   ],
   "source": [
    "class CNN(torch.nn.Module):\n",
    "    def __init__(self):\n",
    "        super(CNN, self).__init__()\n",
    "        out_channels=[2**(i+5) for i in range(5)]\n",
    "        # down\n",
    "        self.d1=DownsampleLayer(1,out_channels[0])\n",
    "        self.d2=DownsampleLayer(out_channels[0],out_channels[1])\n",
    "        self.d3=DownsampleLayer(out_channels[1],out_channels[2])\n",
    "        self.d4=DownsampleLayer(out_channels[2],out_channels[3])\n",
    "        self.d5=DownsampleLayer(out_channels[3],out_channels[4])\n",
    "\n",
    "        # up\n",
    "        self.u1=UpSampleLayer(out_channels[4],out_channels[3])\n",
    "        self.u2=UpSampleLayer(out_channels[3],out_channels[2])\n",
    "        self.u3=UpSampleLayer(out_channels[2],out_channels[1])\n",
    "        self.u4=UpSampleLayer(out_channels[1],out_channels[0])\n",
    "        self.u5=UpSampleLayer(out_channels[0], 2, last= True)\n",
    "\n",
    "    def forward(self, x):\n",
    "        d1 = self.d1(x)\n",
    "        d2 = self.d2(d1)\n",
    "        d3 = self.d3(d2)\n",
    "        d4 = self.d4(d3)\n",
    "        d5 = self.d5(d4)\n",
    "        u1 = self.u1(d5)\n",
    "        u2 = self.u2(u1)\n",
    "        u3 = self.u3(u2)\n",
    "        u4 = self.u4(u3)\n",
    "        u5 = self.u5(u4)\n",
    "        \n",
    "        return u5\n",
    "        \n",
    "        \n",
    "def init_weights(layer):\n",
    "\n",
    "    if type(layer) == nn.Conv2d:\n",
    "        nn.init.normal_(layer.weight, mean=0, std=0.5)\n",
    "        \n",
    "net = CNN()\n",
    "net.apply(init_weights)"
   ]
  },
  {
   "cell_type": "code",
   "execution_count": 19,
   "metadata": {},
   "outputs": [
    {
     "name": "stderr",
     "output_type": "stream",
     "text": [
      "100%|██████████| 7/7 [02:52<00:00, 24.63s/it]"
     ]
    },
    {
     "name": "stdout",
     "output_type": "stream",
     "text": [
      "On GPU total time:172.413414478302\n"
     ]
    },
    {
     "name": "stderr",
     "output_type": "stream",
     "text": [
      "\n"
     ]
    }
   ],
   "source": [
    "loss = nn.SmoothL1Loss()\n",
    "trainer = torch.optim.Adam(net.parameters(), lr=0.005)\n",
    "num_epochs = 7\n",
    "loss_item = []\n",
    "start_time = time.time()\n",
    "for epoch in tqdm.tqdm(range(num_epochs)):\n",
    "    for X,y in Train_Dataloader:\n",
    "        l = loss(net(X.float()) ,y.float())\n",
    "        trainer.zero_grad()\n",
    "        l.backward()\n",
    "        trainer.step()\n",
    "        loss_item.append(l.cpu().item())\n",
    "#     print(l)\n",
    "end_time = time.time()\n",
    "print(\"On GPU total time:{}\".format(end_time-start_time))"
   ]
  },
  {
   "cell_type": "code",
   "execution_count": 14,
   "metadata": {},
   "outputs": [
    {
     "name": "stderr",
     "output_type": "stream",
     "text": [
      "100%|██████████| 1/1 [02:12<00:00, 132.46s/it]"
     ]
    },
    {
     "name": "stdout",
     "output_type": "stream",
     "text": [
      "On CPU total time:927.2066855430603\n"
     ]
    },
    {
     "name": "stderr",
     "output_type": "stream",
     "text": [
      "\n"
     ]
    }
   ],
   "source": [
    "loss = nn.SmoothL1Loss()\n",
    "trainer = torch.optim.Adam(net.parameters(), lr=0.005)\n",
    "num_epochs = 1\n",
    "loss_item = []\n",
    "start_time = time.time()\n",
    "for epoch in tqdm.tqdm(range(num_epochs)):\n",
    "    for X,y in Train_Dataloader:\n",
    "        l = loss(net(X.float()) ,y.float())\n",
    "        trainer.zero_grad()\n",
    "        l.backward()\n",
    "        trainer.step()\n",
    "        loss_item.append(l.cpu().item())\n",
    "end_time = time.time()\n",
    "print(\"On CPU total time:{}\".format(7*(end_time-start_time)))"
   ]
  },
  {
   "cell_type": "markdown",
   "metadata": {},
   "source": [
    "# Using Tanh unit instead of ReLU"
   ]
  },
  {
   "cell_type": "code",
   "execution_count": 58,
   "metadata": {},
   "outputs": [],
   "source": [
    "def norma(x):\n",
    "    \n",
    "    return ((x/255)-0.5)*2\n",
    "\n",
    "def normb(x):\n",
    "    return ((x/255)-0.5)*2\n",
    "\n",
    "class Train_Dataset(Dataset):\n",
    "    def __init__(self):\n",
    "        self.input_data = input_data[:-750]\n",
    "        self.label_data_a = label_data_a[:-750]\n",
    "        self.label_data_b = label_data_b[:-750]\n",
    "        \n",
    "    def __getitem__(self, index):\n",
    "        X = cv2.imread(self.input_data[index],2)\n",
    "        y1 = norma(cv2.imread(self.label_data_a[index],2))\n",
    "        y2 = normb(cv2.imread(self.label_data_b[index],2))\n",
    "        \n",
    "        X = transforms.ToTensor()(X).cuda()\n",
    "        y1 = torch.from_numpy(np.asarray(y1)).cuda()\n",
    "        y2 = torch.from_numpy(np.asarray(y2)).cuda()\n",
    "        \n",
    "        y = torch.stack((y1,y2))\n",
    "        return X, y\n",
    "\n",
    "    def __len__(self):\n",
    "        return len(self.input_data)\n",
    "    \n",
    "\n",
    "    \n",
    "class Test_Dataset(Dataset):\n",
    "    def __init__(self):\n",
    "        self.dataset = test_data\n",
    "        \n",
    "    def __getitem__(self, index):\n",
    "        img = cv2.imread(self.dataset[index])\n",
    "        img = cv2.cvtColor(img,cv2.COLOR_BGR2LAB)\n",
    "        L,a,b = cv2.split(img)\n",
    "        X = transforms.ToTensor()(L).cuda()\n",
    "        a,b = norma(a),normb(b)\n",
    "        y1 = torch.from_numpy(np.asarray(a)).cuda()\n",
    "        y2 = torch.from_numpy(np.asarray(b)).cuda()\n",
    "        y = torch.stack((y1,y2))\n",
    "\n",
    "        return X, y\n",
    "\n",
    "    def __len__(self):\n",
    "        return len(self.dataset)"
   ]
  },
  {
   "cell_type": "code",
   "execution_count": 59,
   "metadata": {},
   "outputs": [],
   "source": [
    "# train input [batch size, 1, 128,128] label [batch size, 2,128,128]\n",
    "Train_data = Train_Dataset()\n",
    "Train_Dataloader = DataLoader(Train_data,batch_size=32,shuffle = True,drop_last=True)\n",
    "\n",
    "# test input [batch size, 1, 128,128] label [batch size, 2,128,128]\n",
    "Test_data = Test_Dataset()\n",
    "Test_Dataloader = DataLoader(Test_data,batch_size=75,shuffle = True)"
   ]
  },
  {
   "cell_type": "code",
   "execution_count": 60,
   "metadata": {},
   "outputs": [],
   "source": [
    "class UpSampleLayer(nn.Module):\n",
    "    def __init__(self,in_ch,out_ch,last = False):\n",
    "        super(UpSampleLayer, self).__init__()\n",
    "        if last:\n",
    "            self.upsample=nn.Sequential(\n",
    "                nn.ConvTranspose2d(in_channels=in_ch,out_channels=out_ch,kernel_size=3,stride=2,padding=1,output_padding=1),\n",
    "                nn.Tanh()\n",
    "            )\n",
    "        else:\n",
    "            self.upsample=nn.Sequential(\n",
    "                nn.ConvTranspose2d(in_channels=in_ch,out_channels=out_ch,kernel_size=3,stride=2,padding=1,output_padding=1),\n",
    "                nn.BatchNorm2d(out_ch),\n",
    "                nn.ReLU()\n",
    "            )\n",
    "    def forward(self,x):\n",
    "        x_out=self.upsample(x)\n",
    "        return x_out\n",
    "\n",
    "class DownsampleLayer(nn.Module):\n",
    "    def __init__(self,in_ch,out_ch):\n",
    "        super(DownsampleLayer, self).__init__()\n",
    "        self.downsample=nn.Sequential(\n",
    "            nn.Conv2d(in_channels=in_ch,out_channels=out_ch,kernel_size=3,stride=2,padding=1),\n",
    "            nn.BatchNorm2d(out_ch),\n",
    "            nn.ReLU()\n",
    "        )\n",
    "    def forward(self,x):\n",
    "        out=self.downsample(x)\n",
    "        return out"
   ]
  },
  {
   "cell_type": "code",
   "execution_count": 61,
   "metadata": {},
   "outputs": [
    {
     "data": {
      "text/plain": [
       "CNN(\n",
       "  (d1): DownsampleLayer(\n",
       "    (downsample): Sequential(\n",
       "      (0): Conv2d(1, 32, kernel_size=(3, 3), stride=(2, 2), padding=(1, 1))\n",
       "      (1): BatchNorm2d(32, eps=1e-05, momentum=0.1, affine=True, track_running_stats=True)\n",
       "      (2): ReLU()\n",
       "    )\n",
       "  )\n",
       "  (d2): DownsampleLayer(\n",
       "    (downsample): Sequential(\n",
       "      (0): Conv2d(32, 64, kernel_size=(3, 3), stride=(2, 2), padding=(1, 1))\n",
       "      (1): BatchNorm2d(64, eps=1e-05, momentum=0.1, affine=True, track_running_stats=True)\n",
       "      (2): ReLU()\n",
       "    )\n",
       "  )\n",
       "  (d3): DownsampleLayer(\n",
       "    (downsample): Sequential(\n",
       "      (0): Conv2d(64, 128, kernel_size=(3, 3), stride=(2, 2), padding=(1, 1))\n",
       "      (1): BatchNorm2d(128, eps=1e-05, momentum=0.1, affine=True, track_running_stats=True)\n",
       "      (2): ReLU()\n",
       "    )\n",
       "  )\n",
       "  (d4): DownsampleLayer(\n",
       "    (downsample): Sequential(\n",
       "      (0): Conv2d(128, 256, kernel_size=(3, 3), stride=(2, 2), padding=(1, 1))\n",
       "      (1): BatchNorm2d(256, eps=1e-05, momentum=0.1, affine=True, track_running_stats=True)\n",
       "      (2): ReLU()\n",
       "    )\n",
       "  )\n",
       "  (d5): DownsampleLayer(\n",
       "    (downsample): Sequential(\n",
       "      (0): Conv2d(256, 512, kernel_size=(3, 3), stride=(2, 2), padding=(1, 1))\n",
       "      (1): BatchNorm2d(512, eps=1e-05, momentum=0.1, affine=True, track_running_stats=True)\n",
       "      (2): ReLU()\n",
       "    )\n",
       "  )\n",
       "  (u1): UpSampleLayer(\n",
       "    (upsample): Sequential(\n",
       "      (0): ConvTranspose2d(512, 256, kernel_size=(3, 3), stride=(2, 2), padding=(1, 1), output_padding=(1, 1))\n",
       "      (1): BatchNorm2d(256, eps=1e-05, momentum=0.1, affine=True, track_running_stats=True)\n",
       "      (2): ReLU()\n",
       "    )\n",
       "  )\n",
       "  (u2): UpSampleLayer(\n",
       "    (upsample): Sequential(\n",
       "      (0): ConvTranspose2d(256, 128, kernel_size=(3, 3), stride=(2, 2), padding=(1, 1), output_padding=(1, 1))\n",
       "      (1): BatchNorm2d(128, eps=1e-05, momentum=0.1, affine=True, track_running_stats=True)\n",
       "      (2): ReLU()\n",
       "    )\n",
       "  )\n",
       "  (u3): UpSampleLayer(\n",
       "    (upsample): Sequential(\n",
       "      (0): ConvTranspose2d(128, 64, kernel_size=(3, 3), stride=(2, 2), padding=(1, 1), output_padding=(1, 1))\n",
       "      (1): BatchNorm2d(64, eps=1e-05, momentum=0.1, affine=True, track_running_stats=True)\n",
       "      (2): ReLU()\n",
       "    )\n",
       "  )\n",
       "  (u4): UpSampleLayer(\n",
       "    (upsample): Sequential(\n",
       "      (0): ConvTranspose2d(64, 32, kernel_size=(3, 3), stride=(2, 2), padding=(1, 1), output_padding=(1, 1))\n",
       "      (1): BatchNorm2d(32, eps=1e-05, momentum=0.1, affine=True, track_running_stats=True)\n",
       "      (2): ReLU()\n",
       "    )\n",
       "  )\n",
       "  (u5): UpSampleLayer(\n",
       "    (upsample): Sequential(\n",
       "      (0): ConvTranspose2d(32, 2, kernel_size=(3, 3), stride=(2, 2), padding=(1, 1), output_padding=(1, 1))\n",
       "      (1): Tanh()\n",
       "    )\n",
       "  )\n",
       ")"
      ]
     },
     "execution_count": 61,
     "metadata": {},
     "output_type": "execute_result"
    }
   ],
   "source": [
    "class CNN(torch.nn.Module):\n",
    "    def __init__(self):\n",
    "        super(CNN, self).__init__()\n",
    "        out_channels=[2**(i+5) for i in range(5)]\n",
    "        # down\n",
    "        self.d1=DownsampleLayer(1,out_channels[0])\n",
    "        self.d2=DownsampleLayer(out_channels[0],out_channels[1])\n",
    "        self.d3=DownsampleLayer(out_channels[1],out_channels[2])\n",
    "        self.d4=DownsampleLayer(out_channels[2],out_channels[3])\n",
    "        self.d5=DownsampleLayer(out_channels[3],out_channels[4])\n",
    "\n",
    "        # up\n",
    "        self.u1=UpSampleLayer(out_channels[4],out_channels[3])\n",
    "        self.u2=UpSampleLayer(out_channels[3],out_channels[2])\n",
    "        self.u3=UpSampleLayer(out_channels[2],out_channels[1])\n",
    "        self.u4=UpSampleLayer(out_channels[1],out_channels[0])\n",
    "        self.u5=UpSampleLayer(out_channels[0], 2, last= True)\n",
    "\n",
    "    def forward(self, x):\n",
    "        d1 = self.d1(x)\n",
    "        d2 = self.d2(d1)\n",
    "        d3 = self.d3(d2)\n",
    "        d4 = self.d4(d3)\n",
    "        d5 = self.d5(d4)\n",
    "        u1 = self.u1(d5)\n",
    "        u2 = self.u2(u1)\n",
    "        u3 = self.u3(u2)\n",
    "        u4 = self.u4(u3)\n",
    "        u5 = self.u5(u4)\n",
    "        \n",
    "        return u5\n",
    "        \n",
    "        \n",
    "def init_weights(layer):\n",
    "\n",
    "    if type(layer) == nn.Conv2d:\n",
    "        nn.init.normal_(layer.weight, mean=0, std=0.5)\n",
    "        \n",
    "net = CNN().cuda()\n",
    "net.apply(init_weights)"
   ]
  },
  {
   "cell_type": "code",
   "execution_count": 62,
   "metadata": {},
   "outputs": [
    {
     "name": "stderr",
     "output_type": "stream",
     "text": [
      "100%|██████████| 7/7 [02:12<00:00, 18.89s/it]\n"
     ]
    }
   ],
   "source": [
    "loss = nn.SmoothL1Loss().cuda()\n",
    "trainer = torch.optim.Adam(net.parameters(), lr=0.001)\n",
    "num_epochs = 7\n",
    "loss_item = []\n",
    "for epoch in tqdm.tqdm(range(num_epochs)):\n",
    "    for X,y in Train_Dataloader:\n",
    "        l = loss(net(X.float()) ,y.float())\n",
    "        trainer.zero_grad()\n",
    "        l.backward()\n",
    "        trainer.step()\n",
    "        loss_item.append(l.cpu().item())"
   ]
  },
  {
   "cell_type": "code",
   "execution_count": 63,
   "metadata": {},
   "outputs": [
    {
     "data": {
      "text/plain": [
       "Text(0.5, 1.0, 'CNN')"
      ]
     },
     "execution_count": 63,
     "metadata": {},
     "output_type": "execute_result"
    },
    {
     "data": {
      "image/png": "[encoded data removed]",
      "text/plain": [
       "<Figure size 432x288 with 1 Axes>"
      ]
     },
     "metadata": {
      "needs_background": "light"
     },
     "output_type": "display_data"
    }
   ],
   "source": [
    "len(loss_item)\n",
    "x = [i for i in range(1470)]\n",
    "plt.scatter(x,loss_item)\n",
    "plt.xlabel(\"epoch\")\n",
    "plt.ylabel(\"SmoothL1Loss\")\n",
    "plt.title(\"CNN\")"
   ]
  },
  {
   "cell_type": "code",
   "execution_count": 85,
   "metadata": {},
   "outputs": [
    {
     "name": "stdout",
     "output_type": "stream",
     "text": [
      "CNN: on the test dataset MSE = 0.024393129982008724\n"
     ]
    }
   ],
   "source": [
    "Test_data = Test_Dataset()\n",
    "Test_Dataloader = DataLoader(Test_data,batch_size=1,shuffle = True)\n",
    "\n",
    "net.eval()\n",
    "test_loss = nn.MSELoss().cuda()\n",
    "for X,y in Test_Dataloader:\n",
    "    with torch.no_grad(): \n",
    "        output = net(X.float()) \n",
    "        MSE = test_loss(y,output).item()\n",
    "        break\n",
    "\n",
    "print(\"CNN: on the test dataset MSE = {}\".format(MSE))"
   ]
  },
  {
   "cell_type": "code",
   "execution_count": 86,
   "metadata": {},
   "outputs": [],
   "source": [
    "output = output.squeeze().cpu().numpy()\n",
    "output = output.transpose(1,2,0)\n",
    "a,b = np.array(cv2.split(output)).astype('float32')\n",
    "a = np.array((a/2+0.5)*256).astype('uint8')\n",
    "b = np.array((b/2+0.5)*256).astype('uint8')\n",
    "\n",
    "L = X.reshape(128,128).cpu().numpy()*255\n",
    "L = L.astype('uint8')\n",
    "LAB = np.stack([L,a,b])\n",
    "LAB = LAB.transpose(1,2,0)\n",
    "RGB_img = cv2.cvtColor(LAB,cv2.COLOR_LAB2BGR)"
   ]
  },
  {
   "cell_type": "code",
   "execution_count": 88,
   "metadata": {},
   "outputs": [
    {
     "data": {
      "text/plain": [
       "<matplotlib.image.AxesImage at 0x2abc39b40580>"
      ]
     },
     "execution_count": 88,
     "metadata": {},
     "output_type": "execute_result"
    },
    {
     "data": {
      "image/png": "[encoded data removed]",
      "text/plain": [
       "<Figure size 432x288 with 1 Axes>"
      ]
     },
     "metadata": {
      "needs_background": "light"
     },
     "output_type": "display_data"
    }
   ],
   "source": [
    "plt.imshow(RGB_img)"
   ]
  }
 ],
 "metadata": {
  "kernelspec": {
   "display_name": "Python 3.9.12 ('base')",
   "language": "python",
   "name": "python3"
  },
  "language_info": {
   "codemirror_mode": {
    "name": "ipython",
    "version": 3
   },
   "file_extension": ".py",
   "mimetype": "text/x-python",
   "name": "python",
   "nbconvert_exporter": "python",
   "pygments_lexer": "ipython3",
   "version": "3.9.12"
  },
  "vscode": {
   "interpreter": {
    "hash": "40d3a090f54c6569ab1632332b64b2c03c39dcf918b08424e98f38b5ae0af88f"
   }
  }
 },
 "nbformat": 4,
 "nbformat_minor": 4
}
