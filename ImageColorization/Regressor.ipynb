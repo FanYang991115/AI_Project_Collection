{
 "cells": [
  {
   "cell_type": "code",
   "execution_count": 1,
   "metadata": {},
   "outputs": [],
   "source": [
    "import numpy as np\n",
    "import cv2\n",
    "from torch.utils.data import Dataset, DataLoader\n",
    "from torchvision import transforms\n",
    "import torch.nn.functional as F\n",
    "import torch.nn as nn\n",
    "import torch\n",
    "import glob\n",
    "import tqdm\n",
    "import re\n",
    "import matplotlib.pyplot as plt\n",
    "%matplotlib inline\n",
    "plt.style.use('bmh')"
   ]
  },
  {
   "cell_type": "code",
   "execution_count": 2,
   "metadata": {},
   "outputs": [],
   "source": [
    "def load_img_folder(img_dir):\n",
    "    files = glob.glob(img_dir)\n",
    "    data = []\n",
    "    for f1 in files:\n",
    "        data.append(f1)\n",
    "    return data\n",
    "\n",
    "def sort_input(datalist):\n",
    "    pat=re.compile('\\d')\n",
    "    numlist = [i for i in pat.findall(datalist)][6:]\n",
    "    num = sum([int(j)*10**int(i) for i,j in enumerate(numlist[:-1][::-1])])*10+int(numlist[-1])\n",
    "    return num\n",
    "\n",
    "def sort_test(datalist):\n",
    "    pat=re.compile('\\d')\n",
    "    numlist = [i for i in pat.findall(datalist)][6:]\n",
    "    num = sum([int(j)*10**int(i) for i,j in enumerate(numlist[:][::-1])])\n",
    "    return num"
   ]
  },
  {
   "cell_type": "code",
   "execution_count": 3,
   "metadata": {},
   "outputs": [],
   "source": [
    "input_data = load_img_folder(\"/home/f.yang1/CAP5404/Part2/L/*.jpg\")\n",
    "label_data_a = load_img_folder(\"/home/f.yang1/CAP5404/Part2/a/*.jpg\")\n",
    "label_data_b = load_img_folder(\"/home/f.yang1/CAP5404/Part2/b/*.jpg\")\n",
    "input_data = sorted(input_data, key = sort_input)\n",
    "label_data_a = sorted(label_data_a, key = sort_input)\n",
    "label_data_b = sorted(label_data_b, key = sort_input)\n",
    "\n",
    "test_data = load_img_folder(\"/home/f.yang1/CAP5404/Part2/oriimge/*.jpg\")\n",
    "test_data = sorted(test_data, key = sort_test)[-75:]"
   ]
  },
  {
   "cell_type": "code",
   "execution_count": 4,
   "metadata": {},
   "outputs": [],
   "source": [
    "class Train_Dataset(Dataset):\n",
    "    def __init__(self):\n",
    "        self.input_data = input_data[:-750]\n",
    "        self.label_data_a = label_data_a[:-750]\n",
    "        self.label_data_b = label_data_b[:-750]\n",
    "        \n",
    "    def __getitem__(self, index):\n",
    "        X = cv2.imread(self.input_data[index],2)\n",
    "        y1 = np.mean(cv2.imread(self.label_data_a[index],2))\n",
    "        y2 = np.mean(cv2.imread(self.label_data_b[index],2))\n",
    "        X = transforms.ToTensor()(X).cuda()\n",
    "        y1 = torch.from_numpy(np.asarray(y1)).cuda()\n",
    "        y2 = torch.from_numpy(np.asarray(y2)).cuda()\n",
    "        \n",
    "        y = torch.stack((y1,y2))\n",
    "        return X, y\n",
    "\n",
    "    def __len__(self):\n",
    "        return len(self.input_data)\n",
    "    \n",
    "\n",
    "    \n",
    "class Test_Dataset(Dataset):\n",
    "    def __init__(self):\n",
    "        self.dataset = test_data\n",
    "        \n",
    "    def __getitem__(self, index):\n",
    "        img = cv2.imread(self.dataset[index])\n",
    "        img = cv2.cvtColor(img,cv2.COLOR_BGR2LAB)\n",
    "        L,a,b = cv2.split(img)\n",
    "        y1 = np.mean(a)\n",
    "        y2 = np.mean(b)\n",
    "        X = transforms.ToTensor()(L).cuda()\n",
    "        y1 = torch.from_numpy(np.asarray(y1)).cuda()\n",
    "        y2 = torch.from_numpy(np.asarray(y2)).cuda()\n",
    "        y = torch.stack((y1,y2))\n",
    "\n",
    "        return X, y\n",
    "\n",
    "    def __len__(self):\n",
    "        return len(self.dataset)"
   ]
  },
  {
   "cell_type": "code",
   "execution_count": 5,
   "metadata": {},
   "outputs": [],
   "source": [
    "# train input [batch size,128,128] label [batch size, 2]\n",
    "Train_data = Train_Dataset()\n",
    "Train_Dataloader = DataLoader(Train_data,batch_size=512,shuffle = True,drop_last=True)\n",
    "\n",
    "# test input [batch size, 128, 128] label [batch size, 2]\n",
    "Test_data = Test_Dataset()\n",
    "Test_Dataloader = DataLoader(Test_data,batch_size=75,shuffle = True)"
   ]
  },
  {
   "cell_type": "code",
   "execution_count": 6,
   "metadata": {},
   "outputs": [],
   "source": [
    "class FCN(torch.nn.Module):\n",
    "    def __init__(self):\n",
    "        super(FCN, self).__init__()\n",
    "        self.l1 = torch.nn.Linear(16384, 4096)\n",
    "        self.l2 = torch.nn.Linear(4096, 1024)\n",
    "        self.l3 = torch.nn.Linear(1024, 512)\n",
    "        self.l4 = torch.nn.Linear(512, 256)\n",
    "        self.l5 = torch.nn.Linear(256, 2)\n",
    " \n",
    "    def forward(self, x):\n",
    "        x = x.view(-1, 16384)\n",
    "        x = F.relu(self.l1(x))\n",
    "        x = F.relu(self.l2(x))\n",
    "        x = F.relu(self.l3(x))\n",
    "        x = F.relu(self.l4(x))\n",
    "        return self.l5(x)\n",
    " \n",
    "net = FCN().cuda()"
   ]
  },
  {
   "cell_type": "code",
   "execution_count": 7,
   "metadata": {},
   "outputs": [],
   "source": [
    "# for X,y in Test_Dataloader:\n",
    "#     print(X.shape)\n",
    "#     print(y.shape)"
   ]
  },
  {
   "cell_type": "code",
   "execution_count": 8,
   "metadata": {},
   "outputs": [
    {
     "name": "stderr",
     "output_type": "stream",
     "text": [
      "100%|██████████| 20/20 [05:52<00:00, 17.64s/it]\n"
     ]
    }
   ],
   "source": [
    "loss = nn.SmoothL1Loss().cuda()\n",
    "trainer = torch.optim.Adam(net.parameters(), lr=0.0001)\n",
    "num_epochs = 20\n",
    "loss_item = []\n",
    "for epoch in tqdm.tqdm(range(num_epochs)):\n",
    "    for X,y in Train_Dataloader:\n",
    "        l = loss(net(X.float()) ,y)\n",
    "#         print(y)\n",
    "        trainer.zero_grad()\n",
    "        l.backward()\n",
    "        trainer.step()\n",
    "        loss_item.append(l.cpu().item())\n"
   ]
  },
  {
   "cell_type": "code",
   "execution_count": 9,
   "metadata": {},
   "outputs": [
    {
     "data": {
      "text/plain": [
       "Text(0.5, 1.0, 'FCN')"
      ]
     },
     "execution_count": 9,
     "metadata": {},
     "output_type": "execute_result"
    },
    {
     "data": {
      "image/png": "[encoded data removed]",
      "text/plain": [
       "<Figure size 432x288 with 1 Axes>"
      ]
     },
     "metadata": {
      "needs_background": "light"
     },
     "output_type": "display_data"
    }
   ],
   "source": [
    "len(loss_item)\n",
    "x = [i for i in range(260)]\n",
    "plt.scatter(x,loss_item)\n",
    "plt.xlabel(\"epoch\")\n",
    "plt.ylabel(\"SmoothL1Loss\")\n",
    "plt.title(\"FCN\")"
   ]
  },
  {
   "cell_type": "code",
   "execution_count": 10,
   "metadata": {},
   "outputs": [
    {
     "name": "stdout",
     "output_type": "stream",
     "text": [
      "FCN: on the test dataset MSE = 12.125846295169508\n"
     ]
    }
   ],
   "source": [
    "net.eval()\n",
    "test_loss = nn.MSELoss().cuda()\n",
    "for X,y in Test_Dataloader:\n",
    "    with torch.no_grad(): \n",
    "        output = net(X.float()) \n",
    "    MSE = test_loss(y,output).item()/75\n",
    "print(\"FCN: on the test dataset MSE = {}\".format(MSE))"
   ]
  },
  {
   "cell_type": "code",
   "execution_count": 37,
   "metadata": {},
   "outputs": [
    {
     "data": {
      "text/plain": [
       "CNN(\n",
       "  (conv1): Sequential(\n",
       "    (0): Conv2d(1, 4, kernel_size=(4, 4), stride=(2, 2), padding=(1, 1))\n",
       "    (1): ReLU()\n",
       "    (2): Conv2d(4, 8, kernel_size=(4, 4), stride=(2, 2), padding=(1, 1))\n",
       "    (3): ReLU()\n",
       "    (4): Conv2d(8, 16, kernel_size=(4, 4), stride=(2, 2), padding=(1, 1))\n",
       "    (5): ReLU()\n",
       "    (6): Conv2d(16, 8, kernel_size=(4, 4), stride=(2, 2), padding=(1, 1))\n",
       "    (7): ReLU()\n",
       "    (8): Conv2d(8, 4, kernel_size=(4, 4), stride=(2, 2), padding=(1, 1))\n",
       "    (9): ReLU()\n",
       "    (10): Conv2d(4, 2, kernel_size=(4, 4), stride=(2, 2), padding=(1, 1))\n",
       "    (11): ReLU()\n",
       "    (12): Conv2d(2, 2, kernel_size=(4, 4), stride=(2, 2), padding=(1, 1))\n",
       "  )\n",
       ")"
      ]
     },
     "execution_count": 37,
     "metadata": {},
     "output_type": "execute_result"
    }
   ],
   "source": [
    "class CNN(torch.nn.Module):\n",
    "    def __init__(self):\n",
    "        super(CNN, self).__init__()\n",
    "        self.conv1 = nn.Sequential(\n",
    "            nn.Conv2d(1, 4, (4,4), stride=2,padding=1),\n",
    "            nn.ReLU(),\n",
    "            nn.Conv2d(4, 8, (4,4), stride=2,padding=1),\n",
    "            nn.ReLU(),\n",
    "            nn.Conv2d(8, 16, (4,4), stride=2,padding=1),\n",
    "            nn.ReLU(),\n",
    "            nn.Conv2d(16, 8, (4,4), stride=2,padding=1),\n",
    "            nn.ReLU(),\n",
    "            nn.Conv2d(8, 4, (4,4), stride=2,padding=1),\n",
    "            nn.ReLU(),\n",
    "            nn.Conv2d(4, 2, (4,4), stride=2,padding=1),\n",
    "            nn.ReLU(),\n",
    "            nn.Conv2d(2, 2, (4,4), stride=2,padding=1),\n",
    "        )\n",
    " \n",
    "    def forward(self, x):\n",
    "        return self.conv1(x)\n",
    "    \n",
    "def init_weights(layer):\n",
    "\n",
    "    if type(layer) == nn.Conv2d:\n",
    "        nn.init.normal_(layer.weight, mean=0, std=0.5)\n",
    "        \n",
    "net = CNN().cuda()\n",
    "net.apply(init_weights)"
   ]
  },
  {
   "cell_type": "code",
   "execution_count": 38,
   "metadata": {},
   "outputs": [
    {
     "name": "stderr",
     "output_type": "stream",
     "text": [
      "100%|██████████| 20/20 [05:30<00:00, 16.52s/it]\n"
     ]
    }
   ],
   "source": [
    "loss = nn.SmoothL1Loss().cuda()\n",
    "trainer = torch.optim.Adam(net.parameters(), lr=0.001)\n",
    "num_epochs = 20\n",
    "loss_item = []\n",
    "for epoch in tqdm.tqdm(range(num_epochs)):\n",
    "    for X,y in Train_Dataloader:\n",
    "        l = loss(net(X) ,y)\n",
    "        trainer.zero_grad()\n",
    "        l.backward()\n",
    "        trainer.step()\n",
    "        loss_item.append(l.cpu().item())\n",
    "#     print(l)"
   ]
  },
  {
   "cell_type": "code",
   "execution_count": 39,
   "metadata": {},
   "outputs": [
    {
     "data": {
      "text/plain": [
       "Text(0.5, 1.0, 'CNN')"
      ]
     },
     "execution_count": 39,
     "metadata": {},
     "output_type": "execute_result"
    },
    {
     "data": {
      "image/png": "[encoded data removed]",
      "text/plain": [
       "<Figure size 432x288 with 1 Axes>"
      ]
     },
     "metadata": {
      "needs_background": "light"
     },
     "output_type": "display_data"
    }
   ],
   "source": [
    "len(loss_item)\n",
    "x = [i for i in range(260)]\n",
    "plt.scatter(x,loss_item)\n",
    "plt.xlabel(\"epoch\")\n",
    "plt.ylabel(\"SmoothL1Loss\")\n",
    "plt.title(\"CNN\")"
   ]
  },
  {
   "cell_type": "code",
   "execution_count": 44,
   "metadata": {},
   "outputs": [
    {
     "name": "stdout",
     "output_type": "stream",
     "text": [
      "CNN: on the test dataset MSE = 8.56694995502701\n"
     ]
    }
   ],
   "source": [
    "net.eval()\n",
    "test_loss = nn.MSELoss().cuda()\n",
    "for X,y in Test_Dataloader:\n",
    "    with torch.no_grad(): \n",
    "        output = net(X.float()) \n",
    "    MSE = test_loss(y,output).item()/75\n",
    "print(\"CNN: on the test dataset MSE = {}\".format(MSE))"
   ]
  }
 ],
 "metadata": {
  "kernelspec": {
   "display_name": "Python 3.9.12 ('base')",
   "language": "python",
   "name": "python3"
  },
  "language_info": {
   "codemirror_mode": {
    "name": "ipython",
    "version": 3
   },
   "file_extension": ".py",
   "mimetype": "text/x-python",
   "name": "python",
   "nbconvert_exporter": "python",
   "pygments_lexer": "ipython3",
   "version": "3.9.12"
  },
  "vscode": {
   "interpreter": {
    "hash": "40d3a090f54c6569ab1632332b64b2c03c39dcf918b08424e98f38b5ae0af88f"
   }
  }
 },
 "nbformat": 4,
 "nbformat_minor": 4
}
